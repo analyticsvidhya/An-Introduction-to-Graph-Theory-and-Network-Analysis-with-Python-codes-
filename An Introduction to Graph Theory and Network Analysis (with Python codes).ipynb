{
 "cells": [
  {
   "cell_type": "markdown",
   "metadata": {},
   "source": [
    "## Getting Familiar with Graphs in python\n",
    "\n",
    " "
   ]
  },
  {
   "cell_type": "markdown",
   "metadata": {},
   "source": [
    "### Graph Creation "
   ]
  },
  {
   "cell_type": "code",
   "execution_count": null,
   "metadata": {},
   "outputs": [],
   "source": [
    "import networkx as nx\n",
    "\n",
    "# Creating a Graph \n",
    "G = nx.Graph() # Right now G is empty\n",
    "\n",
    "# Add a node\n",
    "G.add_node(1) \n",
    "G.add_nodes_from([2,3]) # You can also add a list of nodes by passing a list argument\n",
    "\n",
    "# Add edges \n",
    "G.add_edge(1,2)\n",
    "\n",
    "e = (2,3)\n",
    "G.add_edge(*e) # * unpacks the tuple\n",
    "G.add_edges_from([(1,2), (1,3)]) # Just like nodes we can add edges from a list"
   ]
  },
  {
   "cell_type": "code",
   "execution_count": null,
   "metadata": {},
   "outputs": [],
   "source": [
    "Image('images/graphclasses.PNG', width = 400)"
   ]
  },
  {
   "cell_type": "code",
   "execution_count": null,
   "metadata": {},
   "outputs": [],
   "source": [
    "G.nodes()\n",
    "\n",
    "NodeView((1, 2, 3))\n",
    "\n",
    "G.edges()\n",
    "\n",
    "EdgeView([(1, 2), (1, 3), (2, 3)])\n",
    "\n",
    "G[1] # same as G.adj[1]\n",
    "\n",
    "AtlasView({2: {}, 3: {}})\n",
    "\n",
    "G[1][2]\n",
    "\n",
    "{}\n",
    "\n",
    "G.edges[1, 2]\n",
    "\n",
    "{}"
   ]
  },
  {
   "cell_type": "markdown",
   "metadata": {},
   "source": [
    "### Graph Visualization "
   ]
  },
  {
   "cell_type": "code",
   "execution_count": null,
   "metadata": {},
   "outputs": [],
   "source": [
    "%matplotlib inline\n",
    "import matplotlib.pyplot as plt\n",
    "nx.draw(G)"
   ]
  },
  {
   "cell_type": "code",
   "execution_count": null,
   "metadata": {},
   "outputs": [],
   "source": [
    "import pygraphviz as pgv\n",
    "d={'1': {'2': None}, '2': {'1': None, '3': None}, '3': {'1': None}}\n",
    "A = pgv.AGraph(data=d)\n",
    "print(A) # This is the 'string' or simple representation of the Graph"
   ]
  },
  {
   "cell_type": "code",
   "execution_count": null,
   "metadata": {},
   "outputs": [],
   "source": [
    "# Let us create another Graph where we can individually control the colour of each node\n",
    "B = pgv.AGraph()\n",
    "\n",
    "# Setting node attributes that are common for all nodes \n",
    "B.node_attr['style']='filled'\n",
    "B.node_attr['shape']='circle'\n",
    "B.node_attr['fixedsize']='true'\n",
    "B.node_attr['fontcolor']='#FFFFFF'\n",
    "\n",
    "# Creating and setting node attributes that vary for each node (using a for loop)\n",
    "for i in range(16):\n",
    " B.add_edge(0,i)\n",
    " n=B.get_node(i)\n",
    " n.attr['fillcolor']=\"#%2x0000\"%(i*16)\n",
    " n.attr['height']=\"%s\"%(i/16.0+0.5)\n",
    " n.attr['width']=\"%s\"%(i/16.0+0.5)\n",
    "B.draw('star.png',prog=\"circo\") # This creates a .png file in the local directory. Displayed below.\n",
    "\n",
    "Image('images/star.png', width=650) # The Graph visualization we created above."
   ]
  },
  {
   "cell_type": "markdown",
   "metadata": {},
   "source": [
    "## Analysis on a Dataset "
   ]
  },
  {
   "cell_type": "code",
   "execution_count": null,
   "metadata": {},
   "outputs": [],
   "source": [
    "import pandas as pd \n",
    "import numpy as np\n",
    "\n",
    "data = pd.read_csv('data/Airlines.csv')"
   ]
  },
  {
   "cell_type": "code",
   "execution_count": null,
   "metadata": {},
   "outputs": [],
   "source": [
    "data.shape"
   ]
  },
  {
   "cell_type": "code",
   "execution_count": null,
   "metadata": {},
   "outputs": [],
   "source": [
    "data.dtypes"
   ]
  },
  {
   "cell_type": "code",
   "execution_count": null,
   "metadata": {},
   "outputs": [],
   "source": [
    "# converting sched_dep_time to 'std' - Scheduled time of departure\n",
    "data['std'] = data.sched_dep_time.astype(str).str.replace('(\\d{2}$)', '') + ':' + data.sched_dep_time.astype(str).str.extract('(\\d{2}$)', expand=False) + ':00'"
   ]
  },
  {
   "cell_type": "code",
   "execution_count": null,
   "metadata": {},
   "outputs": [],
   "source": [
    "# converting sched_arr_time to 'sta' - Scheduled time of arrival\n",
    "data['sta'] = data.sched_arr_time.astype(str).str.replace('(\\d{2}$)', '') + ':' + data.sched_arr_time.astype(str).str.extract('(\\d{2}$)', expand=False) + ':00'\n",
    "\n",
    "# converting dep_time to 'atd' - Actual time of departure\n",
    "data['atd'] = data.dep_time.fillna(0).astype(np.int64).astype(str).str.replace('(\\d{2}$)', '') + ':' + data.dep_time.fillna(0).astype(np.int64).astype(str).str.extract('(\\d{2}$)', expand=False) + ':00'"
   ]
  },
  {
   "cell_type": "code",
   "execution_count": null,
   "metadata": {},
   "outputs": [],
   "source": [
    "# converting arr_time to 'ata' - Actual time of arrival\n",
    "data['ata'] = data.arr_time.fillna(0).astype(np.int64).astype(str).str.replace('(\\d{2}$)', '') + ':' + data.arr_time.fillna(0).astype(np.int64).astype(str).str.extract('(\\d{2}$)', expand=False) + ':00'"
   ]
  },
  {
   "cell_type": "code",
   "execution_count": null,
   "metadata": {},
   "outputs": [],
   "source": [
    "data['date'] = pd.to_datetime(data[['year', 'month', 'day']])"
   ]
  },
  {
   "cell_type": "code",
   "execution_count": null,
   "metadata": {},
   "outputs": [],
   "source": [
    "# finally we drop the columns we don't need\n",
    "data = data.drop(columns = ['year', 'month', 'day'])"
   ]
  },
  {
   "cell_type": "code",
   "execution_count": null,
   "metadata": {},
   "outputs": [],
   "source": [
    "import networkx as nx\n",
    "FG = nx.from_pandas_edgelist(data, source='origin', target='dest', edge_attr=True,)\n",
    "\n",
    "FG.nodes()"
   ]
  },
  {
   "cell_type": "code",
   "execution_count": null,
   "metadata": {},
   "outputs": [],
   "source": [
    "FG.edges()"
   ]
  },
  {
   "cell_type": "code",
   "execution_count": null,
   "metadata": {},
   "outputs": [],
   "source": [
    "nx.draw_networkx(FG, with_labels=True) # Quick view of the Graph. As expected we see 3 very busy airports"
   ]
  },
  {
   "cell_type": "code",
   "execution_count": null,
   "metadata": {},
   "outputs": [],
   "source": [
    "nx.algorithms.degree_centrality(FG) # Notice the 3 airports from which all of our 100 rows of data originates\n",
    "nx.density(FG) # Average edge density of the Graphs"
   ]
  },
  {
   "cell_type": "code",
   "execution_count": null,
   "metadata": {},
   "outputs": [],
   "source": [
    "nx.average_shortest_path_length(FG) # Average shortest path length for ALL paths in the Graph"
   ]
  },
  {
   "cell_type": "code",
   "execution_count": null,
   "metadata": {},
   "outputs": [],
   "source": [
    "nx.average_degree_connectivity(FG) # For a node of degree k - What is the average of its neighbours' degree?"
   ]
  },
  {
   "cell_type": "code",
   "execution_count": null,
   "metadata": {},
   "outputs": [],
   "source": [
    "# Let us find all the paths available\n",
    "for path in nx.all_simple_paths(FG, source='JAX', target='DFW'):\n",
    " print(path)"
   ]
  },
  {
   "cell_type": "code",
   "execution_count": null,
   "metadata": {},
   "outputs": [],
   "source": [
    "# Let us find the dijkstra path from JAX to DFW.\n",
    "# You can read more in-depth on how dijkstra works from this resource - https://courses.csail.mit.edu/6.006/fall11/lectures/lecture16.pdf\n",
    "dijpath = nx.dijkstra_path(FG, source='JAX', target='DFW')\n",
    "dijpath"
   ]
  },
  {
   "cell_type": "code",
   "execution_count": null,
   "metadata": {},
   "outputs": [],
   "source": [
    "# Let us try to find the dijkstra path weighted by airtime (approximate case)\n",
    "shortpath = nx.dijkstra_path(FG, source='JAX', target='DFW', weight='air_time')\n",
    "shortpath"
   ]
  }
 ],
 "metadata": {
  "kernelspec": {
   "display_name": "Python 3",
   "language": "python",
   "name": "python3"
  },
  "language_info": {
   "codemirror_mode": {
    "name": "ipython",
    "version": 3
   },
   "file_extension": ".py",
   "mimetype": "text/x-python",
   "name": "python",
   "nbconvert_exporter": "python",
   "pygments_lexer": "ipython3",
   "version": "3.7.3"
  }
 },
 "nbformat": 4,
 "nbformat_minor": 2
}
